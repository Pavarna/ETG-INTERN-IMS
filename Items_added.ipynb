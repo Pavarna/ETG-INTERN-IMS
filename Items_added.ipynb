{
  "nbformat": 4,
  "nbformat_minor": 0,
  "metadata": {
    "colab": {
      "name": "Items added.ipynb",
      "provenance": []
    },
    "kernelspec": {
      "name": "python3",
      "display_name": "Python 3"
    },
    "language_info": {
      "name": "python"
    }
  },
  "cells": [
    {
      "cell_type": "markdown",
      "metadata": {
        "id": "urWQVosv0sfD"
      },
      "source": [
        "# **Inserting records for Inventory management ( 30 products ) and updating quantity**\n",
        "\n",
        "\n"
      ]
    },
    {
      "cell_type": "code",
      "metadata": {
        "id": "wciqtyIxvM8d"
      },
      "source": [
        "# RECORDS FOR INVENTORY MANAGEMENT\n",
        "\n",
        "products_record = { 1001: {\"Product name\": \"Lays\" , \"Pcategory\": \"Chips\", \"Price\" : 10,\"Quantity\":400,\"Psection\":\"Snacks\"},\n",
        "                    1002: {\"Product name\": \"Mango\", \"Pcategory\": \"Fruits\", \"Price\": 20,\"Quantity\":650,\"Psection\":\"Fruits&Veggies\"},\n",
        "                    1003: {\"Product name\": \"Lipstick\" , \"Pcategory\": \"Cosmetics\", \"Price\" : 50,\"Quantity\":270,\"Psection\":\"Makeup\"},\n",
        "                    1004: {\"Product name\": \"Tide\" , \"Pcategory\": \"Cleaning\", \"Price\" : 54,\"Quantity\":545,\"Psection\":\"Washingitems\"},\n",
        "                    1005: {\"Product name\": \"Pepsi\" , \"Pcategory\": \"Drinks\", \"Price\" : 30,\"Quantity\":360,\"Psection\":\"CoolDrinks\"},\n",
        "                    1006: {\"Product name\": \"Milk\" , \"Pcategory\": \"Amul\", \"Price\" : 25,\"Quantity\":100,\"Psection\":\"Dairy\"},\n",
        "                    1007: {\"Product name\": \"T-shirt\" , \"Pcategory\": \"Men's wear\", \"Price\" : 140,\"Quantity\":250,\"Psection\":\"Clothes\"},\n",
        "                    1008: {\"Product name\": \"Headset\" , \"Pcategory\": \"Gadgets\", \"Price\" :900,\"Quantity\":220,\"Psection\":\"Electronis\"},\n",
        "                    1009: {\"Product name\": \"Watch\" , \"Pcategory\": \"Gadgets\", \"Price\" : 800,\"Quantity\":830,\"Psection\":\"Electronis\"},\n",
        "                    1010: {\"Product name\": \"Butter\" , \"Pcategory\": \"Amul\", \"Price\" : 60,\"Quantity\":340,\"Psection\":\"Dairy\"},\n",
        "                    1011: {\"Product name\": \"Cheese\" , \"Pcategory\": \"Amul\", \"Price\" : 250,\"Quantity\":520,\"Psection\":\"Dairy\"},\n",
        "                    1012: {\"Product name\": \"Strawberry\" , \"Pcategory\": \"Fruits\", \"Price\" :200,\"Quantity\":212,\"Psection\":\"Fruits&Veggies\"},\n",
        "                    1013: {\"Product name\": \"Banana\" , \"Pcategory\": \"Fruits\", \"Price\" : 30,\"Quantity\":450,\"Psection\":\"Fruits&Veggies\"},\n",
        "                    1014: {\"Product name\": \"Papaya\" , \"Pcategory\": \"Fruits\", \"Price\" : 60,\"Quantity\":660,\"Psection\":\"Fruits&Veggies\"},\n",
        "                    1015: {\"Product name\": \"Apple\" , \"Pcategory\": \"Fruits\", \"Price\" : 70,\"Quantity\":840,\"Psection\":\"Fruits&Veggies\"},\n",
        "                    1016: {\"Product name\": \"Maaza\" , \"Pcategory\": \"Drinks\", \"Price\" : 30,\"Quantity\":260,\"Psection\":\"CoolDrinks\"},\n",
        "                    1017: {\"Product name\": \"Santoor\" , \"Pcategory\": \"Cleaning\", \"Price\" : 30,\"Quantity\":100,\"Psection\":\"Washingitems\"},\n",
        "                    1018: {\"Product name\": \"Clinic Plus\" , \"Pcategory\": \"Cleaning\", \"Price\" : 50,\"Quantity\":150,\"Psection\":\"Washingitems\"},\n",
        "                    1019: {\"Product name\": \"SunSilk\" , \"Pcategory\": \"Cleaning\", \"Price\" : 70,\"Quantity\":470,\"Psection\":\"Washingitems\"},\n",
        "                    1020: {\"Product name\": \"Cheetos\" , \"Pcategory\": \"Chips\", \"Price\" : 15,\"Quantity\":260,\"Psection\":\"Snacks\"},\n",
        "                    1021: {\"Product name\": \"Kurkure\" , \"Pcategory\": \"Chips\", \"Price\" : 20,\"Quantity\":450,\"Psection\":\"Snacks\"},\n",
        "                    1022: {\"Product name\": \"Carrot\" , \"Pcategory\": \"vegetables\", \"Price\" : 5,\"Quantity\":630,\"Psection\":\"Fruits&Veggies\"},\n",
        "                    1023: {\"Product name\": \"Tomato\" , \"Pcategory\": \"vegetables\", \"Price\" : 3,\"Quantity\":140,\"Psection\":\"vegetables\"},\n",
        "                    1024: {\"Product name\": \"Onion\" , \"Pcategory\": \"vegetables\", \"Price\" : 4,\"Quantity\":100,\"Psection\":\"vegetables\"},\n",
        "                    1025: {\"Product name\": \"Ponds\" , \"Pcategory\": \"Cosmetics\", \"Price\" : 50,\"Quantity\":650,\"Psection\":\"Makeup\"},\n",
        "                    1026: {\"Product name\": \"Paneer\" , \"Pcategory\": \"Amul\", \"Price\" : 120,\"Quantity\":160,\"Psection\":\"Dairy\"},\n",
        "                    1027: {\"Product name\": \"Kurtis\" , \"Pcategory\": \"Women's wear\", \"Price\" :300,\"Quantity\":440,\"Psection\":\"Clothes\"},\n",
        "                    1028: {\"Product name\": \"Parle\" , \"Pcategory\": \"Biscuits\", \"Price\" : 10,\"Quantity\":560,\"Psection\":\"Snacks\"},\n",
        "                    1029: {\"Product name\": \"Leggings\" , \"Pcategory\": \"Women's wear\", \"Price\" : 350,\"Quantity\":630,\"Psection\":\"Clothes\"},\n",
        "                    1030: {\"Product name\": \"Jeans\" , \"Pcategory\": \"Men's wear\", \"Price\" : 900,\"Quantity\":350,\"Psection\":\"Clothes\"}\n",
        "\n",
        "                   }\n",
        "\n",
        "\n"
      ],
      "execution_count": 1,
      "outputs": []
    },
    {
      "cell_type": "markdown",
      "metadata": {
        "id": "qMgV1NuIWxPN"
      },
      "source": [
        "# Updating extra quantity to the existing records"
      ]
    },
    {
      "cell_type": "code",
      "metadata": {
        "colab": {
          "base_uri": "https://localhost:8080/"
        },
        "id": "6N0Bvof9W0rx",
        "outputId": "fe8066ab-6061-4be7-8567-ba4316fe7962"
      },
      "source": [
        "id=int(input(\"Enter the product id :\"))\n",
        "extra_quan=int(input(\"Enter the number of items to be updated :\"))\n",
        "products_record[id][\"Quantity\"]=products_record[id][\"Quantity\"]+extra_quan\n",
        "products_record #updated dict"
      ],
      "execution_count": 2,
      "outputs": [
        {
          "name": "stdout",
          "output_type": "stream",
          "text": [
            "Enter the product id :1001\n",
            "Enter the number of items to be updated :10\n"
          ]
        },
        {
          "output_type": "execute_result",
          "data": {
            "text/plain": [
              "{1001: {'Pcategory': 'Chips',\n",
              "  'Price': 10,\n",
              "  'Product name': 'Lays',\n",
              "  'Psection': 'Snacks',\n",
              "  'Quantity': 410},\n",
              " 1002: {'Pcategory': 'Fruits',\n",
              "  'Price': 20,\n",
              "  'Product name': 'Mango',\n",
              "  'Psection': 'Fruits&Veggies',\n",
              "  'Quantity': 650},\n",
              " 1003: {'Pcategory': 'Cosmetics',\n",
              "  'Price': 50,\n",
              "  'Product name': 'Lipstick',\n",
              "  'Psection': 'Makeup',\n",
              "  'Quantity': 270},\n",
              " 1004: {'Pcategory': 'Cleaning',\n",
              "  'Price': 54,\n",
              "  'Product name': 'Tide',\n",
              "  'Psection': 'Washingitems',\n",
              "  'Quantity': 545},\n",
              " 1005: {'Pcategory': 'Drinks',\n",
              "  'Price': 30,\n",
              "  'Product name': 'Pepsi',\n",
              "  'Psection': 'CoolDrinks',\n",
              "  'Quantity': 360},\n",
              " 1006: {'Pcategory': 'Amul',\n",
              "  'Price': 25,\n",
              "  'Product name': 'Milk',\n",
              "  'Psection': 'Dairy',\n",
              "  'Quantity': 100},\n",
              " 1007: {'Pcategory': \"Men's wear\",\n",
              "  'Price': 140,\n",
              "  'Product name': 'T-shirt',\n",
              "  'Psection': 'Clothes',\n",
              "  'Quantity': 250},\n",
              " 1008: {'Pcategory': 'Gadgets',\n",
              "  'Price': 900,\n",
              "  'Product name': 'Headset',\n",
              "  'Psection': 'Electronis',\n",
              "  'Quantity': 220},\n",
              " 1009: {'Pcategory': 'Gadgets',\n",
              "  'Price': 800,\n",
              "  'Product name': 'Watch',\n",
              "  'Psection': 'Electronis',\n",
              "  'Quantity': 830},\n",
              " 1010: {'Pcategory': 'Amul',\n",
              "  'Price': 60,\n",
              "  'Product name': 'Butter',\n",
              "  'Psection': 'Dairy',\n",
              "  'Quantity': 340},\n",
              " 1011: {'Pcategory': 'Amul',\n",
              "  'Price': 250,\n",
              "  'Product name': 'Cheese',\n",
              "  'Psection': 'Dairy',\n",
              "  'Quantity': 520},\n",
              " 1012: {'Pcategory': 'Fruits',\n",
              "  'Price': 200,\n",
              "  'Product name': 'Strawberry',\n",
              "  'Psection': 'Fruits&Veggies',\n",
              "  'Quantity': 212},\n",
              " 1013: {'Pcategory': 'Fruits',\n",
              "  'Price': 30,\n",
              "  'Product name': 'Banana',\n",
              "  'Psection': 'Fruits&Veggies',\n",
              "  'Quantity': 450},\n",
              " 1014: {'Pcategory': 'Fruits',\n",
              "  'Price': 60,\n",
              "  'Product name': 'Papaya',\n",
              "  'Psection': 'Fruits&Veggies',\n",
              "  'Quantity': 660},\n",
              " 1015: {'Pcategory': 'Fruits',\n",
              "  'Price': 70,\n",
              "  'Product name': 'Apple',\n",
              "  'Psection': 'Fruits&Veggies',\n",
              "  'Quantity': 840},\n",
              " 1016: {'Pcategory': 'Drinks',\n",
              "  'Price': 30,\n",
              "  'Product name': 'Maaza',\n",
              "  'Psection': 'CoolDrinks',\n",
              "  'Quantity': 260},\n",
              " 1017: {'Pcategory': 'Cleaning',\n",
              "  'Price': 30,\n",
              "  'Product name': 'Santoor',\n",
              "  'Psection': 'Washingitems',\n",
              "  'Quantity': 100},\n",
              " 1018: {'Pcategory': 'Cleaning',\n",
              "  'Price': 50,\n",
              "  'Product name': 'Clinic Plus',\n",
              "  'Psection': 'Washingitems',\n",
              "  'Quantity': 150},\n",
              " 1019: {'Pcategory': 'Cleaning',\n",
              "  'Price': 70,\n",
              "  'Product name': 'SunSilk',\n",
              "  'Psection': 'Washingitems',\n",
              "  'Quantity': 470},\n",
              " 1020: {'Pcategory': 'Chips',\n",
              "  'Price': 15,\n",
              "  'Product name': 'Cheetos',\n",
              "  'Psection': 'Snacks',\n",
              "  'Quantity': 260},\n",
              " 1021: {'Pcategory': 'Chips',\n",
              "  'Price': 20,\n",
              "  'Product name': 'Kurkure',\n",
              "  'Psection': 'Snacks',\n",
              "  'Quantity': 450},\n",
              " 1022: {'Pcategory': 'vegetables',\n",
              "  'Price': 5,\n",
              "  'Product name': 'Carrot',\n",
              "  'Psection': 'Fruits&Veggies',\n",
              "  'Quantity': 630},\n",
              " 1023: {'Pcategory': 'vegetables',\n",
              "  'Price': 3,\n",
              "  'Product name': 'Tomato',\n",
              "  'Psection': 'vegetables',\n",
              "  'Quantity': 140},\n",
              " 1024: {'Pcategory': 'vegetables',\n",
              "  'Price': 4,\n",
              "  'Product name': 'Onion',\n",
              "  'Psection': 'vegetables',\n",
              "  'Quantity': 100},\n",
              " 1025: {'Pcategory': 'Cosmetics',\n",
              "  'Price': 50,\n",
              "  'Product name': 'Ponds',\n",
              "  'Psection': 'Makeup',\n",
              "  'Quantity': 650},\n",
              " 1026: {'Pcategory': 'Amul',\n",
              "  'Price': 120,\n",
              "  'Product name': 'Paneer',\n",
              "  'Psection': 'Dairy',\n",
              "  'Quantity': 160},\n",
              " 1027: {'Pcategory': \"Women's wear\",\n",
              "  'Price': 300,\n",
              "  'Product name': 'Kurtis',\n",
              "  'Psection': 'Clothes',\n",
              "  'Quantity': 440},\n",
              " 1028: {'Pcategory': 'Biscuits',\n",
              "  'Price': 10,\n",
              "  'Product name': 'Parle',\n",
              "  'Psection': 'Snacks',\n",
              "  'Quantity': 560},\n",
              " 1029: {'Pcategory': \"Women's wear\",\n",
              "  'Price': 350,\n",
              "  'Product name': 'Leggings',\n",
              "  'Psection': 'Clothes',\n",
              "  'Quantity': 630},\n",
              " 1030: {'Pcategory': \"Men's wear\",\n",
              "  'Price': 900,\n",
              "  'Product name': 'Jeans',\n",
              "  'Psection': 'Clothes',\n",
              "  'Quantity': 350}}"
            ]
          },
          "metadata": {},
          "execution_count": 2
        }
      ]
    },
    {
      "cell_type": "markdown",
      "metadata": {
        "id": "b4ofthkd05yg"
      },
      "source": [
        "OPENING JSON FILE TO WRITE RECORD VALUES"
      ]
    },
    {
      "cell_type": "code",
      "metadata": {
        "id": "Bgr1fKhMvbKb"
      },
      "source": [
        "import json \n",
        "js = json.dumps(products_record)  \n",
        "fw = open(\"Addingrecords.json\",'w') \n",
        "fw.write(js)\n",
        "fw.close()\n"
      ],
      "execution_count": 3,
      "outputs": []
    }
  ]
}