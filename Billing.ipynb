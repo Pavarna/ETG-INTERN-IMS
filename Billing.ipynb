{
  "nbformat": 4,
  "nbformat_minor": 0,
  "metadata": {
    "colab": {
      "name": "Billing.ipynb",
      "provenance": []
    },
    "kernelspec": {
      "name": "python3",
      "display_name": "Python 3"
    },
    "language_info": {
      "name": "python"
    }
  },
  "cells": [
    {
      "cell_type": "markdown",
      "metadata": {
        "id": "ocXEFQd41Oh_"
      },
      "source": [
        "# **Uploading JSON file after dumping in Itemsadded.ipynb**"
      ]
    },
    {
      "cell_type": "markdown",
      "metadata": {
        "id": "70GvwZDi1fgL"
      },
      "source": [
        "**Loading to rec->dict**"
      ]
    },
    {
      "cell_type": "code",
      "metadata": {
        "id": "uot6xju7wA_G"
      },
      "source": [
        "#Uploaded Addingrecords.json file in Collab \n",
        "import json\n",
        "fr = open(\"Addingrecords.json\",'r')  \n",
        "r=fr.read()\n",
        "rec=json.loads(r) \n",
        "fr.close()\n",
        "\n"
      ],
      "execution_count": 1,
      "outputs": []
    },
    {
      "cell_type": "markdown",
      "metadata": {
        "id": "hhZVDGo23Y39"
      },
      "source": [
        "# **storing keys of dict to LIST**"
      ]
    },
    {
      "cell_type": "code",
      "metadata": {
        "id": "-QkaEQc13ZR0"
      },
      "source": [
        "key_list=list(rec.keys())   \n",
        "count=0"
      ],
      "execution_count": 2,
      "outputs": []
    },
    {
      "cell_type": "markdown",
      "metadata": {
        "id": "0SFDqiyV1m71"
      },
      "source": [
        "# DISPLAYING IDS AND PRODUCT NAMES TO USER"
      ]
    },
    {
      "cell_type": "code",
      "metadata": {
        "colab": {
          "base_uri": "https://localhost:8080/"
        },
        "id": "IMVkj1QXweV2",
        "outputId": "5a1188d4-7dc3-453c-d028-762edb83be25"
      },
      "source": [
        "print(\" \\\"Welcome. Kindly check out the below listed Product id and name to order\\\"\")\n",
        "for k in rec.keys():\n",
        "  print(k, rec[k][\"Product name\"])\n",
        "\n",
        "  #after reducing js = json.dumps(products_record_updated)"
      ],
      "execution_count": 3,
      "outputs": [
        {
          "output_type": "stream",
          "name": "stdout",
          "text": [
            " \"Welcome. Kindly check out the below listed Product id and name to order\"\n",
            "1001 Lays\n",
            "1002 Mango\n",
            "1003 Lipstick\n",
            "1004 Tide\n",
            "1005 Pepsi\n",
            "1006 Milk\n",
            "1007 T-shirt\n",
            "1008 Headset\n",
            "1009 Watch\n",
            "1010 Butter\n",
            "1011 Cheese\n",
            "1012 Strawberry\n",
            "1013 Banana\n",
            "1014 Papaya\n",
            "1015 Apple\n",
            "1016 Maaza\n",
            "1017 Santoor\n",
            "1018 Clinic Plus\n",
            "1019 SunSilk\n",
            "1020 Cheetos\n",
            "1021 Kurkure\n",
            "1022 Carrot\n",
            "1023 Tomato\n",
            "1024 Onion\n",
            "1025 Ponds\n",
            "1026 Paneer\n",
            "1027 Kurtis\n",
            "1028 Parle\n",
            "1029 Leggings\n",
            "1030 Jeans\n"
          ]
        }
      ]
    },
    {
      "cell_type": "markdown",
      "metadata": {
        "id": "CCuZoP7s1vEi"
      },
      "source": [
        "# **BILLING CODE -** \n",
        "1. Display billing amount\n",
        "2. Check if id entered matches the id in record\n",
        "3. Check whether enough quantity is in stock\n",
        "4. Prompt yes/no if quantity is less than ordered\n",
        "5. Shows no stock when it is 0\n",
        "6. Prints date of purchase\n"
      ]
    },
    {
      "cell_type": "code",
      "metadata": {
        "colab": {
          "base_uri": "https://localhost:8080/"
        },
        "id": "kxcw2Hqowtm5",
        "outputId": "0f1a2ca9-f7b1-4133-de1f-9ed33f304bbb"
      },
      "source": [
        "from datetime import date\n",
        "# BILLING CODE WITH ALL POSIBILITES ( MATCHING USER ID, QUANTITY, STOCK IS ENOUGH OR NOT)\n",
        "print(\"\\n ***********************\")\n",
        "usid= input(\"Enter the Product id \")                                      #PROMPTING ID AND QUANTITY\n",
        "usquan=int(input(\"Enter the quantity \"))\n",
        "for i in key_list:  \n",
        "  if(usid in key_list):                                                         # IF ID MATCHES ID ENTERED BY USER\n",
        "    if(usquan<rec[usid][\"Quantity\"]):                               # IF QUANTITY ENTERED BY USER IS LESS THAN STOCK\n",
        "      print(\"You ordered\")\n",
        "      print(\"***********************\")\n",
        "      print(\"Product ID: \",usid, \"\\nProduct name: \",rec[usid][\"Product name\"])\n",
        "      print(\"Product Quantity: \",usquan,\"\\nProduct Price: \",rec[usid][\"Price\"])\n",
        "      print(\"Date of Purchase: \",date.today())\n",
        "      print(\"------------------------\")\n",
        "      print(\"\\nBilling Amout: \", usquan * rec[usid][\"Price\"])\n",
        "      print(\"***********************\")\n",
        "      count = count +1\n",
        "      rec[usid][\"Quantity\"]  = rec[usid][\"Quantity\"] - usquan \n",
        "      break\n",
        "    elif(usquan>rec[usid][\"Quantity\"]):  \n",
        "      if(rec[usid][\"Quantity\"]>0): \n",
        "        print(\"Only \",rec[usid][\"Quantity\"],\" items are left. Do you want to buy?\")   \n",
        "        ans=input(\"Enter y (yes) or n (no)\")                                      # ASKING USER YES OR NO TO BUY LEFT QUANTITY\n",
        "        if(ans=='y'):\n",
        "          print(\"You ordered \\n\")\n",
        "          print(\"***********************\")\n",
        "          print(\"Product ID: \",usid, \"\\nProduct name: \",rec[usid][\"Product name\"])\n",
        "          print(\"Product Quantity: \",rec[usid][\"Quantity\"],\"\\nProduct Price: \",rec[usid][\"Price\"])\n",
        "          print(\"Date of Purchase: \",date.today())\n",
        "          print(\"------------------------\")\n",
        "          print(\"\\nBilling Amout: \", rec[usid][\"Quantity\"] * rec[usid][\"Price\"])\n",
        "          print(\"***********************\")\n",
        "          count = count +1\n",
        "          rec[usid][\"Quantity\"]  = rec[usid][\"Quantity\"] - rec[usid][\"Quantity\"]\n",
        "          break\n",
        "        elif(ans=='n'):                                                           \n",
        "          print(\"thanks for visiting\")\n",
        "          break\n",
        "      elif(rec[usid][\"Quantity\"]<=0):\n",
        "          print(\"No Stock\")\n",
        "          break\n",
        "  else:\n",
        "    print(\"\\n ***********************\")\n",
        "    print(\"Select Product id from mentioned list. For example \\\"1001\\\" not 1\")\n",
        "    break\n",
        "  \n",
        "\n",
        "\n",
        "\n"
      ],
      "execution_count": 6,
      "outputs": [
        {
          "output_type": "stream",
          "name": "stdout",
          "text": [
            "\n",
            " ***********************\n",
            "Enter the Product id 1020\n",
            "Enter the quantity 21\n",
            "You ordered\n",
            "***********************\n",
            "Product ID:  1020 \n",
            "Product name:  Cheetos\n",
            "Product Quantity:  21 \n",
            "Product Price:  15\n",
            "Date of Purchase:  2021-09-05\n",
            "------------------------\n",
            "\n",
            "Billing Amout:  315\n",
            "***********************\n"
          ]
        }
      ]
    },
    {
      "cell_type": "markdown",
      "metadata": {
        "id": "WrzNHmEh29DC"
      },
      "source": [
        "# **DISPLAYS TOTAL SALES**"
      ]
    },
    {
      "cell_type": "code",
      "metadata": {
        "colab": {
          "base_uri": "https://localhost:8080/"
        },
        "id": "ZWCRakwe28V8",
        "outputId": "7ac5cc74-cb09-467b-8641-f4da08cbb2ab"
      },
      "source": [
        "#TOTAL SALE OF THE DAY\n",
        "total_sale = count\n",
        "print(\"TOTAL SALE OF THE DAY :\",total_sale)"
      ],
      "execution_count": 7,
      "outputs": [
        {
          "output_type": "stream",
          "name": "stdout",
          "text": [
            "TOTAL SALE OF THE DAY : 1\n"
          ]
        }
      ]
    },
    {
      "cell_type": "markdown",
      "metadata": {
        "id": "ceyBwGxG2b2V"
      },
      "source": [
        "# **Updating record and dumping in JSON**"
      ]
    },
    {
      "cell_type": "code",
      "metadata": {
        "colab": {
          "base_uri": "https://localhost:8080/"
        },
        "id": "vZhkY-pb0Bxj",
        "outputId": "4723e755-ec1f-4f8f-b085-6861e537f535"
      },
      "source": [
        "products_record_updated=rec\n",
        "print(products_record_updated)\n",
        "\n",
        "import json\n",
        "j=json.dumps(products_record_updated)\n",
        "fw = open(\"Productsrecordupdated.json\",'w') \n",
        "fw.write(j)\n",
        "fw.close()"
      ],
      "execution_count": 8,
      "outputs": [
        {
          "output_type": "stream",
          "name": "stdout",
          "text": [
            "{'1001': {'Product name': 'Lays', 'Pcategory': 'Chips', 'Price': 10, 'Quantity': 410, 'Psection': 'Snacks'}, '1002': {'Product name': 'Mango', 'Pcategory': 'Fruits', 'Price': 20, 'Quantity': 650, 'Psection': 'Fruits&Veggies'}, '1003': {'Product name': 'Lipstick', 'Pcategory': 'Cosmetics', 'Price': 50, 'Quantity': 270, 'Psection': 'Makeup'}, '1004': {'Product name': 'Tide', 'Pcategory': 'Cleaning', 'Price': 54, 'Quantity': 545, 'Psection': 'Washingitems'}, '1005': {'Product name': 'Pepsi', 'Pcategory': 'Drinks', 'Price': 30, 'Quantity': 360, 'Psection': 'CoolDrinks'}, '1006': {'Product name': 'Milk', 'Pcategory': 'Amul', 'Price': 25, 'Quantity': 100, 'Psection': 'Dairy'}, '1007': {'Product name': 'T-shirt', 'Pcategory': \"Men's wear\", 'Price': 140, 'Quantity': 250, 'Psection': 'Clothes'}, '1008': {'Product name': 'Headset', 'Pcategory': 'Gadgets', 'Price': 900, 'Quantity': 220, 'Psection': 'Electronis'}, '1009': {'Product name': 'Watch', 'Pcategory': 'Gadgets', 'Price': 800, 'Quantity': 830, 'Psection': 'Electronis'}, '1010': {'Product name': 'Butter', 'Pcategory': 'Amul', 'Price': 60, 'Quantity': 340, 'Psection': 'Dairy'}, '1011': {'Product name': 'Cheese', 'Pcategory': 'Amul', 'Price': 250, 'Quantity': 520, 'Psection': 'Dairy'}, '1012': {'Product name': 'Strawberry', 'Pcategory': 'Fruits', 'Price': 200, 'Quantity': 212, 'Psection': 'Fruits&Veggies'}, '1013': {'Product name': 'Banana', 'Pcategory': 'Fruits', 'Price': 30, 'Quantity': 450, 'Psection': 'Fruits&Veggies'}, '1014': {'Product name': 'Papaya', 'Pcategory': 'Fruits', 'Price': 60, 'Quantity': 660, 'Psection': 'Fruits&Veggies'}, '1015': {'Product name': 'Apple', 'Pcategory': 'Fruits', 'Price': 70, 'Quantity': 840, 'Psection': 'Fruits&Veggies'}, '1016': {'Product name': 'Maaza', 'Pcategory': 'Drinks', 'Price': 30, 'Quantity': 260, 'Psection': 'CoolDrinks'}, '1017': {'Product name': 'Santoor', 'Pcategory': 'Cleaning', 'Price': 30, 'Quantity': 100, 'Psection': 'Washingitems'}, '1018': {'Product name': 'Clinic Plus', 'Pcategory': 'Cleaning', 'Price': 50, 'Quantity': 150, 'Psection': 'Washingitems'}, '1019': {'Product name': 'SunSilk', 'Pcategory': 'Cleaning', 'Price': 70, 'Quantity': 470, 'Psection': 'Washingitems'}, '1020': {'Product name': 'Cheetos', 'Pcategory': 'Chips', 'Price': 15, 'Quantity': 239, 'Psection': 'Snacks'}, '1021': {'Product name': 'Kurkure', 'Pcategory': 'Chips', 'Price': 20, 'Quantity': 450, 'Psection': 'Snacks'}, '1022': {'Product name': 'Carrot', 'Pcategory': 'vegetables', 'Price': 5, 'Quantity': 630, 'Psection': 'Fruits&Veggies'}, '1023': {'Product name': 'Tomato', 'Pcategory': 'vegetables', 'Price': 3, 'Quantity': 140, 'Psection': 'vegetables'}, '1024': {'Product name': 'Onion', 'Pcategory': 'vegetables', 'Price': 4, 'Quantity': 100, 'Psection': 'vegetables'}, '1025': {'Product name': 'Ponds', 'Pcategory': 'Cosmetics', 'Price': 50, 'Quantity': 650, 'Psection': 'Makeup'}, '1026': {'Product name': 'Paneer', 'Pcategory': 'Amul', 'Price': 120, 'Quantity': 160, 'Psection': 'Dairy'}, '1027': {'Product name': 'Kurtis', 'Pcategory': \"Women's wear\", 'Price': 300, 'Quantity': 440, 'Psection': 'Clothes'}, '1028': {'Product name': 'Parle', 'Pcategory': 'Biscuits', 'Price': 10, 'Quantity': 560, 'Psection': 'Snacks'}, '1029': {'Product name': 'Leggings', 'Pcategory': \"Women's wear\", 'Price': 350, 'Quantity': 630, 'Psection': 'Clothes'}, '1030': {'Product name': 'Jeans', 'Pcategory': \"Men's wear\", 'Price': 900, 'Quantity': 350, 'Psection': 'Clothes'}}\n"
          ]
        }
      ]
    }
  ]
}